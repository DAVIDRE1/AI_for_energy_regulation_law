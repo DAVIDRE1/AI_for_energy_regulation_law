{
  "cells": [
    {
      "cell_type": "code",
      "execution_count": 1,
      "id": "edb55d2a",
      "metadata": {},
      "outputs": [],
      "source": [
        "# !/Users/davidramirez/google-cloud-sdk/bin/gcloud auth application-default login\n",
        "# !gcloud config set account dramescalante@gmail.com\n",
        "# !pip install boto3\n",
        "# !pip install -U langchain-google-vertexai\n",
        "# !pip install langchain-google-alloydb-pg\n",
        "# !pip install langchain-google-firestore\n",
        "# !pip install google-cloud-vision\n",
        "# !pip install boto3 google-cloud-vision\n",
        "# !pip install PyPDF2\n",
        "# !pip install gcsfs"
      ]
    },
    {
      "cell_type": "code",
      "execution_count": 2,
      "id": "641434b5",
      "metadata": {},
      "outputs": [],
      "source": [
        "from langchain.schema.document import Document\n",
        "from langchain_google_firestore import FirestoreVectorStore\n",
        "from langchain_google_vertexai import VertexAIEmbeddings\n",
        "from langchain.text_splitter import RecursiveCharacterTextSplitter\n",
        "from google.cloud import firestore\n",
        "import boto3\n",
        "from io import BytesIO\n",
        "from PyPDF2 import PdfReader\n",
        "from google.cloud import storage"
      ]
    },
    {
      "cell_type": "code",
      "execution_count": 3,
      "id": "82e3bcd0",
      "metadata": {},
      "outputs": [],
      "source": [
        "#GCP\n",
        "project_id =\"legal-advisor-001\"\n",
        "location = \"us-west1\"\n",
        "collection=\"vectorStoreLegal\"\n",
        "embed_model_name=\"textembedding-gecko-multilingual@001\"\n",
        "bucket_name = \"legalrepo\"\n",
        "\n",
        "\n",
        "#Other\n",
        "chunk_size = 1500\n",
        "chunk_overlap=300\n",
        "k=3"
      ]
    },
    {
      "cell_type": "code",
      "execution_count": 4,
      "id": "129f1f8d",
      "metadata": {
        "id": "129f1f8d"
      },
      "outputs": [],
      "source": [
        "# Set the project id\n",
        "# !yes | gcloud config set project {project_id}\n"
      ]
    },
    {
      "cell_type": "markdown",
      "id": "2b235211",
      "metadata": {},
      "source": [
        "# Get the documents from GCP Storage"
      ]
    },
    {
      "cell_type": "code",
      "execution_count": 5,
      "id": "15d1e38d",
      "metadata": {},
      "outputs": [],
      "source": [
        "# Function to read text files from Google Cloud Storage\n",
        "def read_text_files_from_gcs(bucket_name, folder_path):\n",
        "    storage_client = storage.Client()\n",
        "    bucket = storage_client.bucket(bucket_name)\n",
        "    blobs = bucket.list_blobs(prefix=folder_path)\n",
        "    data = []\n",
        "    for blob in blobs:\n",
        "        print(blob.name)\n",
        "        if blob.name.endswith('.txt'):\n",
        "            content = blob.download_as_text()\n",
        "            data.append(Document(page_content=content, metadata={\"filename\":blob.name}))\n",
        "        elif blob.name.endswith('.pdf'):\n",
        "            content = blob.download_as_string()\n",
        "            doc = PdfReader(BytesIO(content))\n",
        "            text = \"\".join([p.extract_text() for p in doc.pages])\n",
        "            data.append(Document(page_content=text, metadata={\"filename\": blob.name}))\n",
        "    return data"
      ]
    },
    {
      "cell_type": "markdown",
      "id": "090b990b",
      "metadata": {},
      "source": [
        "# Chunking"
      ]
    },
    {
      "cell_type": "code",
      "execution_count": 6,
      "id": "0325782b",
      "metadata": {},
      "outputs": [],
      "source": [
        "\n",
        "# Split documents into chunks using RecursiveCharacterTextSplitter\n",
        "def chunk_documents(data, chunk_size, chunk_overlap):\n",
        "    text_splitter = RecursiveCharacterTextSplitter(chunk_size=chunk_size, chunk_overlap=chunk_overlap)\n",
        "    texts = text_splitter.split_documents(data)\n",
        "    return texts"
      ]
    },
    {
      "cell_type": "markdown",
      "id": "580e6f96",
      "metadata": {
        "id": "580e6f96"
      },
      "source": [
        "# Create FirestoreVectorStore"
      ]
    },
    {
      "cell_type": "code",
      "execution_count": 7,
      "id": "dc37144c-208d-4ab3-9f3a-0407a69fe052",
      "metadata": {
        "id": "dc37144c-208d-4ab3-9f3a-0407a69fe052",
        "tags": []
      },
      "outputs": [],
      "source": [
        "def create_vector_store(texts, project_id, embed_model_name, collection):\n",
        "    embedding = VertexAIEmbeddings(\n",
        "        model_name=embed_model_name,\n",
        "        project=project_id,\n",
        "    )\n",
        "    # Create a vector store with documents\n",
        "    # vector_store = FirestoreVectorStore.from_documents(\n",
        "    #     collection=collection,\n",
        "    #     documents=texts,\n",
        "    #     embedding=embedding,\n",
        "    # )\n",
        "\n",
        "    # Create a vector store \n",
        "    vector_store = FirestoreVectorStore(collection=collection, embedding_service=embedding)\n",
        "\n",
        "    # Add the texts to the vector store\n",
        "    count = len(texts)\n",
        "    if count > 400:\n",
        "        for i in (range(count//400)):\n",
        "            vector_store.add_documents(texts[i*400:(i+1)*400])\n",
        "        vector_store.add_documents(texts[count//400*400:])\n",
        "    else:\n",
        "        vector_store.add_documents(texts)\n",
        "    return vector_store"
      ]
    },
    {
      "cell_type": "markdown",
      "id": "7e6449d8",
      "metadata": {},
      "source": [
        "# Set up vector store"
      ]
    },
    {
      "cell_type": "code",
      "execution_count": 8,
      "id": "7fb32429",
      "metadata": {},
      "outputs": [],
      "source": [
        "def create_update_vector_store(bucket_name, chunk_size, chunk_overlap, project_id, collection, embed_model_name):\n",
        "    # Read documents from the specified folder in the bucket\n",
        "    data = read_text_files_from_gcs(bucket_name, \"\")\n",
        "    # Chunk documents\n",
        "    texts = chunk_documents(data, chunk_size, chunk_overlap)\n",
        "    \n",
        "    # Delete all existing documents\n",
        "    db = firestore.Client(project=project_id)\n",
        "    if db.collection(collection):\n",
        "        # Reference the collection\n",
        "        collection_ref = db.collection(collection)\n",
        "        # Get all documents in the collection\n",
        "        docs = collection_ref.stream()\n",
        "        for doc in docs:\n",
        "            doc.reference.delete()\n",
        "\n",
        "    # Create/Add documents to Vector store\n",
        "    vector_store = create_vector_store(texts, project_id, embed_model_name, collection)\n",
        "    return vector_store"
      ]
    },
    {
      "cell_type": "code",
      "execution_count": 9,
      "id": "782580a5",
      "metadata": {},
      "outputs": [],
      "source": [
        "db = firestore.Client()\n",
        "collection_ref = db.collection(collection)\n",
        "docs = collection_ref.stream()\n",
        "previous_count = doc_count = sum(1 for _ in docs)"
      ]
    },
    {
      "cell_type": "code",
      "execution_count": 10,
      "id": "0ff6b3bb",
      "metadata": {},
      "outputs": [
        {
          "name": "stdout",
          "output_type": "stream",
          "text": [
            "Creg015-2018.pdf\n",
            "Creg038-2014.pdf\n",
            "Creg075-2021.pdf\n",
            "Ley_142_de_1994.pdf\n",
            "Ley_1715_de_2014 (LEY DE ENERGIAS  RENOVABLES).pdf\n",
            "Ley_2099_de_2021 (LEY DE TRANSICION ENERGETICA).pdf\n",
            "1145\n",
            "0 400\n",
            "400 800\n"
          ]
        }
      ],
      "source": [
        "vector_store = create_update_vector_store(bucket_name, chunk_size, chunk_overlap, project_id, collection, embed_model_name) #Run this for create/update vector store"
      ]
    },
    {
      "cell_type": "code",
      "execution_count": 11,
      "id": "621b6ccc",
      "metadata": {},
      "outputs": [
        {
          "name": "stdout",
          "output_type": "stream",
          "text": [
            "Updated from 798 chunks to 1145 chunks\n"
          ]
        }
      ],
      "source": [
        "# Get a chunk count on store\n",
        "db = firestore.Client()\n",
        "collection_ref = db.collection(collection)\n",
        "docs = collection_ref.stream()\n",
        "new_count = doc_count = sum(1 for _ in docs)\n",
        "print(f\"Updated from {previous_count} chunks to {new_count} chunks\")"
      ]
    }
  ],
  "metadata": {
    "colab": {
      "provenance": []
    },
    "kernelspec": {
      "display_name": "Python 3 (ipykernel)",
      "language": "python",
      "name": "python3"
    },
    "language_info": {
      "codemirror_mode": {
        "name": "ipython",
        "version": 3
      },
      "file_extension": ".py",
      "mimetype": "text/x-python",
      "name": "python",
      "nbconvert_exporter": "python",
      "pygments_lexer": "ipython3",
      "version": "3.8.19"
    }
  },
  "nbformat": 4,
  "nbformat_minor": 5
}
